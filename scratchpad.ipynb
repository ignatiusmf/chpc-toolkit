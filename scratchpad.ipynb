{
 "cells": [
  {
   "cell_type": "code",
   "execution_count": 2,
   "metadata": {},
   "outputs": [],
   "source": [
    "from sandbox.toolbox.models import ResNet112, ResNet56, ResNet20, ResNetBaby\n",
    "\n",
    "import torch\n",
    "import torchvision\n",
    "import torchvision.transforms as transforms\n",
    "\n",
    "import numpy as np\n",
    "import matplotlib.pyplot as plt\n",
    "import pandas as pd\n",
    "import random\n",
    "\n",
    "from rich import print as pprint\n",
    "import os\n",
    "import glob\n",
    "\n",
    "from scipy.stats import kurtosis\n",
    "import pywt\n",
    "from scipy.stats import skew\n",
    "from torchvision.transforms import GaussianBlur\n",
    "import torch.fft as fft\n",
    "\n",
    "device = 'cuda'\n",
    "plt.rcParams['image.cmap'] = 'magma'"
   ]
  },
  {
   "cell_type": "code",
   "execution_count": 3,
   "metadata": {},
   "outputs": [
    {
     "name": "stdout",
     "output_type": "stream",
     "text": [
      "Files already downloaded and verified\n",
      "Loaded: ResNet112-None\n",
      "Loaded: ResNet20-None\n",
      "Loaded: ResNet20-ft\n",
      "Loaded: ResNet20-kd\n",
      "Loaded: ResNet20-td\n",
      "Loaded: ResNet56-None\n",
      "Loaded: ResNet56-ft\n",
      "Loaded: ResNet56-kd\n",
      "Loaded: ResNet56-td\n",
      "Loaded: ResNetBaby-None\n",
      "Loaded: ResNetBaby-ft\n",
      "Loaded: ResNetBaby-kd\n",
      "Loaded: ResNetBaby-td\n"
     ]
    }
   ],
   "source": [
    "ds = torchvision.datasets.CIFAR100\n",
    "mean, std = (0.5071, 0.4867, 0.4409), (0.267, 0.256, 0.276) \n",
    "transform_test = transforms.Compose([\n",
    "    transforms.ToTensor(),\n",
    "    transforms.Normalize(mean, std),\n",
    "])\n",
    "\n",
    "testset = ds(root='./data', train=False, download=True, transform=transform_test)\n",
    "testloader = torch.utils.data.DataLoader(testset, batch_size=len(testset), shuffle=False, num_workers=0)\n",
    "\n",
    "testloader_data = next(iter(testloader))\n",
    "sample_idx_iter = iter(range(10000))\n",
    "\n",
    "MODELS = {\n",
    "    'ResNet112': ResNet112,\n",
    "    'ResNet56': ResNet56,\n",
    "    'ResNet20': ResNet20,\n",
    "    'ResNetBaby': ResNetBaby\n",
    "}\n",
    "\n",
    "current = {}\n",
    "\n",
    "root_dir = \"experiments-24-03\"\n",
    "pth_files = glob.glob(os.path.join(root_dir, \"**/Cifar100_ResNet*.pth\"), recursive=True)\n",
    "for file_path in pth_files:\n",
    "    split = file_path.split('\\\\')[1:]\n",
    "\n",
    "    run_number, distillation_type = (split[2], 'None') if split[2].isdigit() else (split[3], split[2])\n",
    "    model_name = split[1].split('_')[0] \n",
    "\n",
    "    if run_number == '1':\n",
    "        model = MODELS[model_name](100).to(device)\n",
    "        checkpoint = torch.load(file_path, weights_only=True)\n",
    "        model.load_state_dict(checkpoint['weights'])\n",
    "        current[f'{model_name}_{distillation_type}'] = model\n",
    "        print(f'Loaded: {model_name}-{distillation_type}')\n"
   ]
  },
  {
   "cell_type": "code",
   "execution_count": 4,
   "metadata": {},
   "outputs": [],
   "source": [
    "def get_batch(Model):\n",
    "    Model.eval()\n",
    "    inputs, targets = testloader_data \n",
    "    inputs, targets = inputs.to(device), targets.to(device)\n",
    "\n",
    "    with torch.no_grad():\n",
    "        outputs = Model(inputs)\n",
    "    probs = torch.nn.functional.softmax(outputs[3], dim=1)\n",
    "    confidence, predicted = torch.max(probs.data, 1)\n",
    "\n",
    "    return [{\n",
    "        'feature_map': [outputs[idx][i] for idx in range(3)],\n",
    "        'correct': predicted.eq(targets.data).cpu().float()[i].item() == 1.0,\n",
    "        'predicted_class': np.array(testloader.dataset.classes)[predicted.data.cpu()][i],\n",
    "        'correct_class': np.array(testloader.dataset.classes)[targets.data.cpu()][i],\n",
    "        'confidence': confidence[i].item()\n",
    "    } for i in range(10000)]\n",
    "\n",
    "batch = {}\n",
    "for key in current:\n",
    "    batch[key] = get_batch(current[key]) "
   ]
  },
  {
   "cell_type": "code",
   "execution_count": 5,
   "metadata": {},
   "outputs": [],
   "source": [
    "def print_sample_data(index, batch):\n",
    "    batch_sample = batch[index]\n",
    "    print(batch_sample['correct'], '| Predicetd', batch_sample['predicted_class'], '| Actual', batch_sample['correct_class'], ' | Confidence', f'{batch_sample['confidence'] * 100:.2f}%')\n",
    "\n",
    "def show_sample(index):\n",
    "    images, labels = testloader_data\n",
    "    img = images[index]\n",
    "    img = img * torch.tensor(std).view(3, 1, 1) + torch.tensor(mean).view(3, 1, 1)\n",
    "    img = img.permute(1, 2, 0).numpy()\n",
    "    plt.imshow(img)\n",
    "    plt.axis('off')\n",
    "    plt.show()\n",
    "\n",
    "def process_feature_map(feature_map):\n",
    "    fmap = feature_map.cpu()  # Shape: [1, C, H, W]\n",
    "    fmap_avg = torch.mean(fmap, dim=1, keepdim=True)  # Shape: [1, 1, H, W]\n",
    "    batch_size, _, h, w = fmap_avg.shape\n",
    "    fmap_flat = fmap_avg.view(batch_size, -1)  # Shape: [1, H*W]\n",
    "    tau = 0.5\n",
    "    fmap_scaled = fmap_flat / tau\n",
    "    fmap_softmax = torch.softmax(fmap_scaled, dim=1)  # Shape: [1, H*W]\n",
    "    fmap_softmax = fmap_softmax * (h * w)  # Scale by H*W\n",
    "    fmap_processed = fmap_softmax.view(1, 1, h, w)  # Shape: [1, 1, H, W]\n",
    "    return fmap_processed[0, 0].unsqueeze(0).unsqueeze(0).to(device)\n",
    "\n",
    "def visualize_processed_feature_map(index, batch):\n",
    "    plt.figure(figsize=(15, 5))\n",
    "    for i in range(3):\n",
    "        feature_map = batch[index]['feature_map'][i].unsqueeze(0)\n",
    "        processed_fmap = process_feature_map(feature_map)[0,0].cpu()\n",
    "        plt.subplot(1, 3, i+1)\n",
    "        plt.imshow(processed_fmap, vmin=0)\n",
    "        plt.axis('off')\n",
    "        plt.title(f'Feature Map #{i+1}')\n",
    "    plt.show()\n",
    "\n",
    "def visualize_channels(index, batch):\n",
    "    fig, axs = plt.subplots(4, 12, figsize=(15, 5))  \n",
    "    for k in range(3): \n",
    "        feature_map = batch[index]['feature_map'][k].unsqueeze(0)\n",
    "        for i in range(4):\n",
    "            for j in range(4):\n",
    "                axs[i, j + k*4].matshow(feature_map[0, (i * 4) + j].cpu(), vmin=0)\n",
    "                axs[i, j + k*4].axis('off')\n",
    "        axs[0, k*4].set_title(f'Feature Map #{k+1}')\n",
    "    plt.tight_layout()\n",
    "    plt.show()\n",
    "\n",
    "def show_random_feature_map():\n",
    "    feature_map = torch.randn(1, 64, 8, 8).to(device)\n",
    "    processed_fmap = process_feature_map(feature_map)[0,0].cpu()\n",
    "\n",
    "    plt.figure(figsize=(5, 5))\n",
    "    plt.imshow(processed_fmap, vmin=0)\n",
    "    plt.axis('off')\n",
    "    plt.show()\n",
    "\n",
    "    fig, axs = plt.subplots(8, 8, figsize=(5, 5)) \n",
    "    for i in range(8):\n",
    "        for j in range(8):\n",
    "            axs[i, j].matshow(feature_map[0, (i * 8) + j].cpu(),vmin=0) \n",
    "            axs[i, j].axis('off')"
   ]
  },
  {
   "cell_type": "code",
   "execution_count": null,
   "metadata": {},
   "outputs": [],
   "source": [
    "# show_random_feature_map()\n",
    "# sample_idx = next(sample_idx_iter)\n",
    "sample_idx = 3022 # random.randint(0,9999)\n",
    "show_sample(sample_idx)\n",
    "for key in batch:\n",
    "    print(key)\n",
    "    print_sample_data(sample_idx, batch[key])\n",
    "    visualize_processed_feature_map(sample_idx, batch[key])\n",
    "    visualize_channels(sample_idx, batch[key])"
   ]
  },
  {
   "cell_type": "code",
   "execution_count": 7,
   "metadata": {},
   "outputs": [],
   "source": [
    "def compute_wavelet_energy(feature_map, wavelet='db1', level=2):\n",
    "    energies = []\n",
    "    for c in range(feature_map.shape[1]):  # Iterate over channels\n",
    "        fm_np = feature_map[0, c].detach().cpu().numpy()\n",
    "        coeffs = pywt.wavedec2(fm_np, wavelet, level=level)\n",
    "        high_freq_energy = 0\n",
    "        for detail in coeffs[1:]:  # Each detail is a tuple of arrays\n",
    "            for subband in detail:\n",
    "                high_freq_energy += np.sum(subband**2)\n",
    "        energies.append(high_freq_energy)\n",
    "    \n",
    "    energies = torch.tensor(energies)\n",
    "    avg = energies.mean().item()\n",
    "    return avg\n",
    "\n",
    "def compute_skewness(feature_map):\n",
    "    flat_fm = feature_map.flatten().detach().cpu().numpy()\n",
    "    skewness = skew(flat_fm)\n",
    "    return skewness\n",
    "\n",
    "def compute_lowpass_residuals(feature_map, kernel_size=3, sigma=1.0):\n",
    "    blur = GaussianBlur(kernel_size, sigma)\n",
    "    denoised_fm = blur(feature_map)\n",
    "    residuals = torch.norm(feature_map - denoised_fm, p=2)\n",
    "    return residuals.item()\n",
    "\n",
    "def compute_frequency_entropy(feature_map):\n",
    "    channels = feature_map.shape[1]\n",
    "    entropies = []\n",
    "    for c in range(channels):\n",
    "        fm = feature_map[0, c]  \n",
    "        fm_fft = fft.fft2(fm)\n",
    "        power_spectrum = torch.abs(fm_fft)**2\n",
    "        probs = power_spectrum / (power_spectrum.sum() + 1e-10)\n",
    "        entropy = -torch.sum(probs * torch.log(probs + 1e-10))\n",
    "        entropies.append(entropy)\n",
    "    \n",
    "    entropies = torch.tensor(entropies)\n",
    "    avg = entropies.mean()\n",
    "    return avg.item()\n",
    "\n",
    "def compute_iqr(feature_map):\n",
    "    flat_fm = feature_map.flatten()\n",
    "    q75, q25 = torch.quantile(flat_fm, torch.tensor([0.75, 0.25],device=device))\n",
    "    iqr = q75 - q25\n",
    "    return iqr.item()\n",
    "\n",
    "def compute_high_freq_power(feature_map):\n",
    "    channels = feature_map.shape[1]\n",
    "    high_freq_powers = []\n",
    "    for c in range(channels):\n",
    "        fm = feature_map[0, c] \n",
    "        fm_fft = fft.fft2(fm)\n",
    "        power_spectrum = torch.abs(fm_fft)**2\n",
    "        high_freq_power = power_spectrum[int(fm.shape[0]/2):, int(fm.shape[1]/2):].sum()\n",
    "        high_freq_powers.append(high_freq_power)\n",
    "    \n",
    "    high_freq_powers = torch.tensor(high_freq_powers)\n",
    "    avg = high_freq_powers.mean().item()\n",
    "    return avg\n",
    "\n",
    "def compute_cv(feature_map):\n",
    "    mean = torch.mean(feature_map)\n",
    "    std = torch.std(feature_map)\n",
    "    cv = mean / (std.abs() + 1e-10)\n",
    "    return cv.item()\n",
    "\n",
    "def compute_kurtosis(feature_map):\n",
    "    flat_fm = feature_map.flatten().detach().cpu().numpy()\n",
    "    return kurtosis(flat_fm)\n",
    "\n",
    "def compute_entropy(feature_map): \n",
    "    feature_map = feature_map - feature_map.min()  \n",
    "    sum_fm = feature_map.sum()\n",
    "    if sum_fm == 0:  # Avoid division by zero\n",
    "        return torch.tensor(0.0, device=feature_map.device)\n",
    "    probs = feature_map / sum_fm\n",
    "    entropy = -torch.sum(probs * torch.log(probs + 1e-10))\n",
    "    return entropy.item()\n",
    "\n",
    "def compute_average(feature_map):\n",
    "    return feature_map.mean().item()\n",
    "\n",
    "def compute_std(feature_map):\n",
    "    return feature_map.std().item()\n",
    "\n",
    "metrics = { \n",
    "    \"Average\": compute_average,\n",
    "    \"STD\": compute_std,\n",
    "    \"Kurtosis\": compute_kurtosis,\n",
    "    \"Wavelet High-Frequency Energy\": compute_wavelet_energy,\n",
    "    \"Low-Pass Filter Residuals\": compute_lowpass_residuals,\n",
    "    \"Frequency Entropy\": compute_frequency_entropy,\n",
    "    \"IQR\": compute_iqr,\n",
    "    \"High-Frequency Power\": compute_high_freq_power,\n",
    "    \"Coefficient of Variation\": compute_cv,\n",
    "    \"Skewness\": compute_skewness,\n",
    "    \"Total Entropy\": compute_entropy,\n",
    "}\n",
    "    "
   ]
  },
  {
   "cell_type": "code",
   "execution_count": 8,
   "metadata": {},
   "outputs": [],
   "source": [
    "def analyze_feature_map_multiple_samples(batch_model, title, fidx, process=False, batch_size=1000):\n",
    "    results = {\"Feature Map\": title}\n",
    "    for name, func in metrics.items():\n",
    "        number = 0\n",
    "        for i in range(batch_size):\n",
    "            feature_map = batch_model[i]['feature_map'][fidx].unsqueeze(0)\n",
    "            number += func(process_feature_map(feature_map) if process else feature_map)\n",
    "        number /= batch_size\n",
    "        results.update({name: round(number,4)})\n",
    "    return results\n",
    "\n",
    "def analyze_feature_map_to_table(feature_map_list, titles):\n",
    "    rows = []\n",
    "    for feature_map, title in zip(feature_map_list, titles):\n",
    "        results = {\"Feature Map\": title}  # Add title as a column\n",
    "        results.update({name: round(func(feature_map), 4) for name, func in metrics.items()})\n",
    "        rows.append(results)\n",
    "    return rows\n",
    "    # try:\n",
    "    #     df.to_excel(\"feature_map_metrics.xlsx\", index=False)  # index=False keeps it as a column\n",
    "    #     print(\"Saved to 'feature_map_metrics.xlsx'\")\n",
    "    # except ModuleNotFoundError:\n",
    "    #     print(\"Error: Install 'openpyxl' to save to Excel (pip install openpyxl)\")"
   ]
  },
  {
   "cell_type": "code",
   "execution_count": null,
   "metadata": {},
   "outputs": [],
   "source": [
    "temp = {\"Feature Map\": \"\"}\n",
    "for name, func in metrics.items():\n",
    "    temp.update({name: 0})\n",
    "\n",
    "for i in range(3):\n",
    "    rows = []\n",
    "    for key, value in batch.items():\n",
    "        rows.append(analyze_feature_map_multiple_samples(batch[key], key, i))\n",
    "\n",
    "    rows.append(temp)\n",
    "    rows.append(temp)\n",
    "\n",
    "    for key, value in batch.items(): # Process feature map before calculating stats\n",
    "        rows.append(analyze_feature_map_multiple_samples(batch[key], key, i, process=True))\n",
    "\n",
    "    rows.append(temp)\n",
    "    rows.append(temp)\n",
    "\n",
    "\n",
    "    random_fmap = torch.randn(1, 64, 8, 8).to(device)\n",
    "    squashed_random_fmap = process_feature_map(random_fmap)\n",
    "    rows += analyze_feature_map_to_table([random_fmap, squashed_random_fmap], ['Random', 'Random Squashed'])\n",
    "\n",
    "\n",
    "    df = pd.DataFrame(rows)\n",
    "    df.to_excel(f'metrics_fmaps_{i}.xlsx')\n",
    "    print(df.to_string(index=False))"
   ]
  },
  {
   "cell_type": "code",
   "execution_count": null,
   "metadata": {},
   "outputs": [],
   "source": [
    "import pandas as pd\n",
    "\n",
    "# Load each table from xlsx files (replace with your file paths)\n",
    "data1 = pd.read_excel(\"metrics_fmaps_0.xlsx\")  # First document\n",
    "data2 = pd.read_excel(\"metrics_fmaps_1.xlsx\")  # Second document\n",
    "data3 = pd.read_excel(\"metrics_fmaps_2.xlsx\")  # Third document\n",
    "\n",
    "# Function to compute correlations with Total Entropy only\n",
    "def compute_entropy_correlations(df, table_name):\n",
    "    # Drop rows with all zeros and unnecessary columns\n",
    "    df = df.loc[df[\"Average\"] != 0].drop(columns=[\"Unnamed: 0\", \"Feature Map\"])\n",
    "    \n",
    "    # Compute correlation matrix\n",
    "    corr_matrix = df.corr()\n",
    "    \n",
    "    # Extract only the Total Entropy row from the correlation matrix\n",
    "    entropy_correlations = corr_matrix.loc[\"Total Entropy\"]\n",
    "    \n",
    "    # Print results\n",
    "    print(f\"\\nCorrelations with Total Entropy for {table_name}:\")\n",
    "    for metric, corr_value in entropy_correlations.items():\n",
    "        if metric != \"Total Entropy\":  # Skip self-correlation\n",
    "            print(f\"{metric}: {corr_value:.4f}\")\n",
    "            # print(f\"{metric}\")\n",
    "\n",
    "# Run for each table\n",
    "for fm_idx, data in enumerate([data1, data2, data3]):\n",
    "    subtable1 = data.iloc[0:13].loc[data[\"Average\"] != 0]\n",
    "    subtable2 = data.iloc[15:28].loc[data[\"Average\"] != 0]\n",
    "    fm_names = [\"Normal\", \"Attention Map\"]\n",
    "    for table_idx, table in enumerate([subtable1, subtable2]):\n",
    "        ft_subtable = table[table[\"Feature Map\"].isin([\"ResNet56_ft\", \"ResNet20_ft\", \"ResNetBaby_ft\"])]\n",
    "        kd_subtable = table[table[\"Feature Map\"].isin([\"ResNet56_kd\", \"ResNet20_kd\", \"ResNetBaby_kd\"])]\n",
    "        td_subtable = table[table[\"Feature Map\"].isin([\"ResNet56_td\", \"ResNet20_td\", \"ResNetBaby_td\"])]\n",
    "        none_subtable = table[table[\"Feature Map\"].isin([\"ResNet112_None\", \"ResNet56_None\", \"ResNet20_None\", \"ResNetBaby_None\"])]\n",
    "        table_method_names = [\"ft_subtable\", \"kd_subtable\", \"td_subtable\", \"none_subtable\"]\n",
    "        for method_idx, table_method in enumerate([ft_subtable, kd_subtable, td_subtable, none_subtable]):\n",
    "            compute_entropy_correlations(table_method, f\"Table {fm_idx+1}, {fm_names[table_idx]}, {table_method_names[method_idx]}\")\n",
    "    print(\"\\n\", \"============================================\"*2, \"\\n\")\n",
    "\n",
    "\n",
    "\n",
    "\n",
    "#     compute_entropy_correlations(subtable1, f\"Table {i}\")\n",
    "#     compute_entropy_correlations(subtable2, f\"Table {i}/Attention Map\")\n",
    "\n",
    "\n",
    "# ft_subtable = subtable1[subtable1[\"Feature Map\"].isin([\"ResNet56_ft\", \"ResNet20_ft\", \"ResNetBaby_ft\"])]\n",
    "# kd_subtable = subtable1[subtable1[\"Feature Map\"].isin([\"ResNet56_kd\", \"ResNet20_kd\", \"ResNetBaby_kd\"])]\n",
    "# td_subtable = subtable1[subtable1[\"Feature Map\"].isin([\"ResNet56_td\", \"ResNet20_td\", \"ResNetBaby_td\"])]\n",
    "# none_subtable = subtable1[subtable1[\"Feature Map\"].isin([\"ResNet112_None\", \"ResNet56_None\", \"ResNet20_None\", \"ResNetBaby_None\"])]\n"
   ]
  },
  {
   "cell_type": "markdown",
   "metadata": {},
   "source": [
    "# QUESTION:\n",
    "1. What does the paraphraser, translater and TD do with the feature maps?\n"
   ]
  },
  {
   "cell_type": "code",
   "execution_count": 51,
   "metadata": {},
   "outputs": [
    {
     "name": "stdout",
     "output_type": "stream",
     "text": [
      "Files already downloaded and verified\n",
      "First channel of final feature map of the 0th sample (ray) out of the dataset\n"
     ]
    },
    {
     "data": {
      "image/png": "[encoded data removed]",
      "text/plain": [
       "<Figure size 480x480 with 1 Axes>"
      ]
     },
     "metadata": {},
     "output_type": "display_data"
    },
    {
     "name": "stdout",
     "output_type": "stream",
     "text": [
      "First channel of final feature map of the 1th sample (skyscraper) out of the dataset\n"
     ]
    },
    {
     "data": {
      "image/png": "[encoded data removed]",
      "text/plain": [
       "<Figure size 480x480 with 1 Axes>"
      ]
     },
     "metadata": {},
     "output_type": "display_data"
    },
    {
     "name": "stdout",
     "output_type": "stream",
     "text": [
      "First channel of final feature map of the 2th sample (beetle) out of the dataset\n"
     ]
    },
    {
     "data": {
      "image/png": "[encoded data removed]",
      "text/plain": [
       "<Figure size 480x480 with 1 Axes>"
      ]
     },
     "metadata": {},
     "output_type": "display_data"
    },
    {
     "name": "stdout",
     "output_type": "stream",
     "text": [
      "First channel of final feature map of the 3th sample (chimpanzee) out of the dataset\n"
     ]
    },
    {
     "data": {
      "image/png": "[encoded data removed]",
      "text/plain": [
       "<Figure size 480x480 with 1 Axes>"
      ]
     },
     "metadata": {},
     "output_type": "display_data"
    },
    {
     "name": "stdout",
     "output_type": "stream",
     "text": [
      "First channel of final feature map of the 4th sample (television) out of the dataset\n"
     ]
    },
    {
     "data": {
      "image/png": "[encoded data removed]",
      "text/plain": [
       "<Figure size 480x480 with 1 Axes>"
      ]
     },
     "metadata": {},
     "output_type": "display_data"
    },
    {
     "name": "stdout",
     "output_type": "stream",
     "text": [
      "First channel of final feature map of the 5th sample (turtle) out of the dataset\n"
     ]
    },
    {
     "data": {
      "image/png": "[encoded data removed]",
      "text/plain": [
       "<Figure size 480x480 with 1 Axes>"
      ]
     },
     "metadata": {},
     "output_type": "display_data"
    },
    {
     "name": "stdout",
     "output_type": "stream",
     "text": [
      "First channel of final feature map of the 6th sample (otter) out of the dataset\n"
     ]
    },
    {
     "data": {
      "image/png": "[encoded data removed]",
      "text/plain": [
       "<Figure size 480x480 with 1 Axes>"
      ]
     },
     "metadata": {},
     "output_type": "display_data"
    },
    {
     "name": "stdout",
     "output_type": "stream",
     "text": [
      "First channel of final feature map of the 7th sample (kangaroo) out of the dataset\n"
     ]
    },
    {
     "data": {
      "image/png": "[encoded data removed]",
      "text/plain": [
       "<Figure size 480x480 with 1 Axes>"
      ]
     },
     "metadata": {},
     "output_type": "display_data"
    },
    {
     "name": "stdout",
     "output_type": "stream",
     "text": [
      "First channel of final feature map of the 8th sample (streetcar) out of the dataset\n"
     ]
    },
    {
     "data": {
      "image/png": "[encoded data removed]",
      "text/plain": [
       "<Figure size 480x480 with 1 Axes>"
      ]
     },
     "metadata": {},
     "output_type": "display_data"
    },
    {
     "name": "stdout",
     "output_type": "stream",
     "text": [
      "First channel of final feature map of the 9th sample (keyboard) out of the dataset\n"
     ]
    },
    {
     "data": {
      "image/png": "[encoded data removed]",
      "text/plain": [
       "<Figure size 480x480 with 1 Axes>"
      ]
     },
     "metadata": {},
     "output_type": "display_data"
    }
   ],
   "source": [
    "# print(batch['ResNet56_ft'][0].keys())\n",
    "batch_size = 10 #len(testset)\n",
    "testset = ds(root='./data', train=False, download=True, transform=transform_test)\n",
    "testloader = torch.utils.data.DataLoader(testset, batch_size=batch_size, shuffle=True, num_workers=0)\n",
    "testloader_data = next(iter(testloader))\n",
    "\n",
    "\n",
    "inputs, targets = testloader_data \n",
    "inputs, targets = inputs.to(device), targets.to(device)\n",
    "rn56 = current['ResNet56_ft']\n",
    "rn56.eval()\n",
    "with torch.no_grad():\n",
    "    outputs = rn56(inputs)\n",
    "probs = torch.nn.functional.softmax(outputs[3], dim=1)\n",
    "confidence, predicted = torch.max(probs.data, 1)\n",
    "\n",
    "thing = [{\n",
    "    'feature_map':outputs[2][i],\n",
    "    'correct': predicted.eq(targets.data).cpu().float()[i].item() == 1.0,\n",
    "    'predicted_class': np.array(testloader.dataset.classes)[predicted.data.cpu()][i],\n",
    "    'correct_class': np.array(testloader.dataset.classes)[targets.data.cpu()][i],\n",
    "    'confidence': confidence[i].item()\n",
    "} for i in range(10)]\n",
    "\n",
    "for i in range(10):\n",
    "    feature_map = thing[i]['feature_map'][0].cpu() \n",
    "    predicted = thing[i]['predicted_class']\n",
    "    plt.matshow(feature_map)\n",
    "    print(f'First channel of final feature map of the {i}th sample ({predicted}) out of the dataset')\n",
    "    plt.show()\n"
   ]
  },
  {
   "cell_type": "code",
   "execution_count": null,
   "metadata": {},
   "outputs": [],
   "source": [
    "\n",
    "\n",
    "current = {}\n",
    "\n",
    "root_dir = \"experiments-24-03\"\n",
    "pth_files = glob.glob(os.path.join(root_dir, \"**/Cifar100_ResNet*.pth\"), recursive=True)\n",
    "for file_path in pth_files:\n",
    "    split = file_path.split('\\\\')[1:]\n",
    "\n",
    "    run_number, distillation_type = (split[2], 'None') if split[2].isdigit() else (split[3], split[2])\n",
    "    model_name = split[1].split('_')[0] \n",
    "\n",
    "    if run_number == '1':\n",
    "        model = MODELS[model_name](100).to(device)\n",
    "        checkpoint = torch.load(file_path, weights_only=True)\n",
    "        model.load_state_dict(checkpoint['weights'])\n",
    "        current[f'{model_name}_{distillation_type}'] = model\n",
    "        print(f'Loaded: {model_name}-{distillation_type}')\n"
   ]
  },
  {
   "cell_type": "markdown",
   "metadata": {},
   "source": [
    "For a single model, compare the noise stats for:\n",
    "Confident wrong vs confident right vs uncertain wrong vs uncertain correct\n",
    "\n",
    "for multiple variants of the smae model, compare:\n",
    "Does it get the same things right and wrong"
   ]
  }
 ],
 "metadata": {
  "kernelspec": {
   "display_name": "Python 3",
   "language": "python",
   "name": "python3"
  },
  "language_info": {
   "codemirror_mode": {
    "name": "ipython",
    "version": 3
   },
   "file_extension": ".py",
   "mimetype": "text/x-python",
   "name": "python",
   "nbconvert_exporter": "python",
   "pygments_lexer": "ipython3",
   "version": "3.12.8"
  }
 },
 "nbformat": 4,
 "nbformat_minor": 2
}
