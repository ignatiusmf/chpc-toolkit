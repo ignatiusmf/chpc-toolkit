{
 "cells": [
  {
   "cell_type": "code",
   "execution_count": 5,
   "metadata": {},
   "outputs": [],
   "source": [
    "from sandbox.toolbox.models import ResNet112, ResNet56, ResNet20, ResNetBaby\n",
    "from sandbox.toolbox.data_loader import Cifar10, Cifar100\n",
    "from sandbox.toolbox.utils import get_names, plot_the_things, evaluate_model, get_settings\n",
    "\n",
    "import torch\n",
    "import matplotlib.pyplot as plt\n",
    "import numpy as np\n",
    "\n",
    "device = 'cuda'"
   ]
  },
  {
   "cell_type": "code",
   "execution_count": null,
   "metadata": {},
   "outputs": [
    {
     "name": "stdout",
     "output_type": "stream",
     "text": [
      "Files already downloaded and verified\n",
      "Files already downloaded and verified\n",
      "Total parameters for ResNet112: 1,736,564\n",
      "TEST | Loss: 1.128 | Acc: 73.850 |\n",
      "(1.1276416144793546, 73.85)\n"
     ]
    }
   ],
   "source": [
    "Epochs = 150\n",
    "Data = Cifar100() \n",
    "Model = ResNet112(Data.class_num).to(device) \n",
    "\n",
    "trainloader, testloader = Data.trainloader, Data.testloader\n",
    "checkpoint = torch.load(f'models/{Data.name}_{Model.model_type}.pth', weights_only=True)\n",
    "Model.load_state_dict(checkpoint['weights']) \n",
    "evaluate_model(Model, testloader)\n",
    "Model.eval()"
   ]
  },
  {
   "cell_type": "code",
   "execution_count": null,
   "metadata": {},
   "outputs": [],
   "source": [
    "iterdata = iter(trainloader)"
   ]
  },
  {
   "cell_type": "code",
   "execution_count": 315,
   "metadata": {},
   "outputs": [
    {
     "name": "stdout",
     "output_type": "stream",
     "text": [
      "feature_map.shape=torch.Size([128, 64, 8, 8])\n"
     ]
    }
   ],
   "source": [
    "inputs, targets = next(iterdata)\n",
    "inputs, targets = inputs.to(device), targets.to(device)\n",
    "\n",
    "with torch.no_grad():\n",
    "    outputs = Model(inputs)\n",
    "    probs = torch.nn.functional.softmax(outputs[3], dim=1)\n",
    "confidence, predicted = torch.max(probs.data, 1)\n",
    "correct = predicted.eq(targets.data).cpu().sum().float().item()\n",
    "\n",
    "\n",
    "# predicted_class = trainloader.dataset.classes[predicted.data]\n",
    "# correct_class = trainloader.dataset.classes[targets.data]\n",
    "# print(f'{\"Success\" if correct == 1.0 else \"Fail\"}: {predicted_class=}, {correct_class=}, confidence: {confidence.item()*100:.2f}')\n",
    "\n",
    "# plt.imshow(outputs[2][0,1].cpu(),cmap='gray')\n",
    "\n",
    "feature_map = outputs[2]\n",
    "print(f'{feature_map.shape=}')"
   ]
  },
  {
   "cell_type": "code",
   "execution_count": 317,
   "metadata": {},
   "outputs": [],
   "source": [
    "feature_map = torch.randn(1, 64, 8, 8)"
   ]
  },
  {
   "cell_type": "code",
   "execution_count": 318,
   "metadata": {},
   "outputs": [
    {
     "name": "stdout",
     "output_type": "stream",
     "text": [
      "Coefficient of Variation\n",
      "Coefficient of variation -0.02\n",
      "Kurtosis: -0.0293\n",
      "Entropy 8.281549453735352\n"
     ]
    },
    {
     "data": {
      "text/plain": [
       "<matplotlib.image.AxesImage at 0x1a297e19760>"
      ]
     },
     "execution_count": 318,
     "metadata": {},
     "output_type": "execute_result"
    },
    {
     "data": {
      "image/png": "[encoded data removed]",
      "text/plain": [
       "<Figure size 480x480 with 1 Axes>"
      ]
     },
     "metadata": {},
     "output_type": "display_data"
    }
   ],
   "source": [
    "print(\"Coefficient of Variation\")\n",
    "mean = torch.mean(feature_map)\n",
    "std = torch.std(feature_map)\n",
    "cv = mean / (std.abs() + 1e-10)\n",
    "print('Coefficient of variation', f'{cv.item():.2f}')\n",
    "\n",
    "from scipy.stats import kurtosis\n",
    "flat_fm = feature_map.flatten().detach().cpu().numpy()\n",
    "kurt = kurtosis(flat_fm)\n",
    "print(f\"Kurtosis: {kurt:.4f}\")\n",
    "\n",
    "\n",
    "\n",
    "def compute_entropy(feature_map):\n",
    "    feature_map = feature_map - feature_map.min()  # Shift to make all values >= 0\n",
    "    if feature_map.sum() == 0:  # Avoid division by zero\n",
    "        return torch.tensor(0.0)\n",
    "    probs = feature_map / feature_map.sum()  # Sum normalizes to 1\n",
    "    entropy = -torch.sum(probs * torch.log(probs + 1e-10))\n",
    "    return entropy\n",
    "\n",
    "print('Entropy', compute_entropy(feature_map).item())\n",
    "plt.matshow(feature_map[0,0].cpu())"
   ]
  },
  {
   "cell_type": "code",
   "execution_count": null,
   "metadata": {},
   "outputs": [],
   "source": []
  }
 ],
 "metadata": {
  "kernelspec": {
   "display_name": "Python 3",
   "language": "python",
   "name": "python3"
  },
  "language_info": {
   "codemirror_mode": {
    "name": "ipython",
    "version": 3
   },
   "file_extension": ".py",
   "mimetype": "text/x-python",
   "name": "python",
   "nbconvert_exporter": "python",
   "pygments_lexer": "ipython3",
   "version": "3.12.8"
  }
 },
 "nbformat": 4,
 "nbformat_minor": 2
}
